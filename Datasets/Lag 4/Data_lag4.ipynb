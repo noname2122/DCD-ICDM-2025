{
  "nbformat": 4,
  "nbformat_minor": 0,
  "metadata": {
    "colab": {
      "provenance": []
    },
    "kernelspec": {
      "name": "python3",
      "display_name": "Python 3"
    },
    "language_info": {
      "name": "python"
    }
  },
  "cells": [
    {
      "cell_type": "markdown",
      "source": [
        "4.4"
      ],
      "metadata": {
        "id": "xaaJ6391fA50"
      }
    },
    {
      "cell_type": "code",
      "execution_count": 3,
      "metadata": {
        "colab": {
          "base_uri": "https://localhost:8080/"
        },
        "id": "35Wtt7pkK26k",
        "outputId": "90619d8e-cfce-4ef1-c423-95f1eec48b6e"
      },
      "outputs": [
        {
          "output_type": "stream",
          "name": "stdout",
          "text": [
            "Synthetic data generated and saved to 'synthetic_time_series_data.csv'\n"
          ]
        }
      ],
      "source": [
        "import numpy as np\n",
        "import pandas as pd\n",
        "\n",
        "def generate_synthetic_data(n_samples=1500):\n",
        "    np.random.seed(42)\n",
        "    time = np.arange(0, n_samples)\n",
        "    # Initialize error terms\n",
        "    e1 = np.random.normal(0, 1, n_samples)\n",
        "    e2 = np.zeros(n_samples)\n",
        "    e3 = np.zeros(n_samples)\n",
        "    e4 = np.zeros(n_samples)\n",
        "    # Generate error terms with lagged relationships\n",
        "    for t in range(1, n_samples):\n",
        "        # e2 depends on e1 with lag 1\n",
        "        e2[t] = 0.3 * e1[t-1] + np.random.normal(0, 0.1)\n",
        "    for t in range(2, n_samples):\n",
        "        # e3 depends on e2 with lag 2\n",
        "        e3[t] = 0.6 * e2[t-2] + np.random.normal(0, 0.1)\n",
        "    for t in range(1, n_samples):\n",
        "        # e4 depends on e3 with lag 1 and e4 with lag 1\n",
        "        e4[t] = 0.4 * e3[t-4] + 0.02 * e4[t-1] + np.random.normal(0, 0.1)\n",
        "    # Generate time series with trend, seasonal, and error components\n",
        "    x1 = 10 + 2 * np.sin(2 * np.pi * time / 30) + e1\n",
        "    x2 = 5 + 0.05 * time  + e2\n",
        "    x3 = 7 + np.sin(2 * np.pi * time / 15) + e3\n",
        "    x4 = 12 + 0.15 * time  + e4\n",
        "    df = pd.DataFrame({\n",
        "        'time': time,\n",
        "        'x1': x1,\n",
        "        'x2': x2,\n",
        "        'x3': x3,\n",
        "        'x4': x4\n",
        "    })\n",
        "    return df\n",
        "\n",
        "# Generate the synthetic data\n",
        "df = generate_synthetic_data()\n",
        "\n",
        "# Save the dataset to a CSV file\n",
        "df.to_csv('4.4.1500.csv', index=False)\n",
        "\n",
        "print(\"Synthetic data generated and saved to 'synthetic_time_series_data.csv'\")"
      ]
    },
    {
      "cell_type": "markdown",
      "source": [
        "6.4"
      ],
      "metadata": {
        "id": "KRUCowANfD7-"
      }
    },
    {
      "cell_type": "code",
      "source": [
        "import numpy as np\n",
        "import pandas as pd\n",
        "\n",
        "def generate_synthetic_data(n_samples=1500):\n",
        "    np.random.seed(45)\n",
        "    time = np.arange(0, n_samples)\n",
        "\n",
        "    e1 = np.random.normal(0, 1, n_samples)\n",
        "    e2 = np.zeros(n_samples)\n",
        "    e3 = np.zeros(n_samples)\n",
        "    e4 = np.zeros(n_samples)\n",
        "    e5 = np.zeros(n_samples)\n",
        "    e6 = np.zeros(n_samples)\n",
        "\n",
        "    # Generate error terms with dependencies\n",
        "    for t in range(1, n_samples):\n",
        "        e2[t] = 0.7 * e1[t-1] + np.random.normal(0, 0.1)\n",
        "\n",
        "    for t in range(2, n_samples):\n",
        "        e3[t] = 0.6 * e2[t-2] + np.random.normal(0, 0.1)\n",
        "\n",
        "    for t in range(1, n_samples):\n",
        "        e4[t] = 0.5 * e3[t-3] + 0.8 * e4[t-1] + np.random.normal(0, 0.1)\n",
        "\n",
        "    for t in range(1, n_samples):\n",
        "        e5[t] = 0.65 * e4[t] + np.random.normal(0, 0.1)\n",
        "\n",
        "    for t in range(2, n_samples):\n",
        "        e6[t] = 0.75 * e5[t-4] + np.random.normal(0, 0.1)\n",
        "\n",
        "    # Generate time series with trend, seasonal, and error components\n",
        "    x1 = 10 + 2 * np.sin(2 * np.pi * time / 30) + e1\n",
        "    x2 = 5 + 0.05 * time + np.sin(2 * np.pi * time / 45) + e2\n",
        "    x3 = 7 + np.sin(2 * np.pi * time / 15) + e3\n",
        "    x4 = 12 + 0.15 * time + e4\n",
        "    x5 = 10 + e5\n",
        "    x6 = 8 + 0.1 * time + np.sin(2 * np.pi * time / 12) + e6\n",
        "\n",
        "    df = pd.DataFrame({\n",
        "        'time': time,\n",
        "        'x1': x1,\n",
        "        'x2': x2,\n",
        "        'x3': x3,\n",
        "        'x4': x4,\n",
        "        'x5': x5,\n",
        "        'x6': x6\n",
        "    })\n",
        "    return df\n",
        "\n",
        "# Generate the synthetic data\n",
        "df = generate_synthetic_data()\n",
        "\n",
        "# Save the dataset to a CSV file\n",
        "df.to_csv('6.4.1500.csv', index=False)\n",
        "\n",
        "print(\"Synthetic data generated and saved to 'synthetic_time_series_data.csv'\")"
      ],
      "metadata": {
        "colab": {
          "base_uri": "https://localhost:8080/"
        },
        "id": "eBWxSNJANUng",
        "outputId": "c3ef0e51-dd17-41ff-d7d7-f65a316cc447"
      },
      "execution_count": 6,
      "outputs": [
        {
          "output_type": "stream",
          "name": "stdout",
          "text": [
            "Synthetic data generated and saved to 'synthetic_time_series_data.csv'\n"
          ]
        }
      ]
    },
    {
      "cell_type": "markdown",
      "source": [
        "8.4"
      ],
      "metadata": {
        "id": "HAwryWdtfFdZ"
      }
    },
    {
      "cell_type": "code",
      "source": [
        "def generate_synthetic_data(n_samples=1500):\n",
        "    np.random.seed(45)\n",
        "    time = np.arange(0, n_samples)\n",
        "\n",
        "    # Initialize error terms\n",
        "    e1 = np.random.normal(0, 1, n_samples)\n",
        "    e2 = np.zeros(n_samples)\n",
        "    e3 = np.zeros(n_samples)\n",
        "    e4 = np.zeros(n_samples)\n",
        "    e5 = np.zeros(n_samples)\n",
        "    e6 = np.zeros(n_samples)\n",
        "    e7 = np.zeros(n_samples)\n",
        "    e8 = np.zeros(n_samples)\n",
        "\n",
        "    # Generate error terms with dependencies\n",
        "    for t in range(1, n_samples):\n",
        "        e2[t] = 0.7 * e1[t-1] + np.random.normal(0, 0.1)\n",
        "\n",
        "    for t in range(n_samples):\n",
        "        e3[t] = 0.8 * e2[t] + np.random.normal(0, 0.1)\n",
        "\n",
        "    for t in range(2, n_samples):\n",
        "        e4[t] = 0.5 * e3[t-3] + np.random.normal(0, 0.1)\n",
        "\n",
        "    for t in range(1, n_samples):\n",
        "        e5[t] = 0.7 * e4[t] + 0.3 * e4[t-1] + np.random.normal(0, 0.1)\n",
        "\n",
        "    for t in range(2, n_samples):\n",
        "        e6[t] = 0.6 * e5[t-4] + np.random.normal(0, 0.1)\n",
        "\n",
        "    for t in range(n_samples):\n",
        "        e7[t] = 0.75 * e6[t] + np.random.normal(0, 0.1)\n",
        "\n",
        "    for t in range(1, n_samples):\n",
        "        e8[t] = 0.8 * e7[t-1] + np.random.normal(0, 0.1)\n",
        "\n",
        "    # Generate time series with trend, seasonal, and error components\n",
        "    x1 = 10  + e1\n",
        "    x2 = 5 + 0.05 * time + e2  # Trend\n",
        "    x3 = 7  + e3\n",
        "    x4 = 12  + np.sin(2 * np.pi * time / 20) + e4  # Seasonal\n",
        "    x5 = 10 + 0.1 * time + 3 * np.sin(2 * np.pi * time / 25) + e5  # Trend + Seasonal\n",
        "    x6 = 8 + 0.2 * time + e6  # Trend\n",
        "    x7 = 9  + e7\n",
        "    x8 = 11 + 4 * np.sin(2 * np.pi * time / 12) + e8  # Seasonal\n",
        "\n",
        "    # Return the generated data as a DataFrame\n",
        "    return pd.DataFrame({\n",
        "        'time': time,\n",
        "        'x1': x1,\n",
        "        'x2': x2,\n",
        "        'x3': x3,\n",
        "        'x4': x4,\n",
        "        'x5': x5,\n",
        "        'x6': x6,\n",
        "        'x7': x7,\n",
        "        'x8': x8\n",
        "    })\n",
        "\n",
        "# Save to CSV file\n",
        "df.to_csv(\"8.4.1500.csv\", index=False)\n",
        "\n",
        "print(\"8_var_Synthetic data saved to synthetic_data.csv\")\n",
        "print(df.head())"
      ],
      "metadata": {
        "colab": {
          "base_uri": "https://localhost:8080/"
        },
        "id": "cAMyd9i9eH_N",
        "outputId": "a42f4ce9-0271-41b1-cb88-e43a9785b479"
      },
      "execution_count": 9,
      "outputs": [
        {
          "output_type": "stream",
          "name": "stdout",
          "text": [
            "8_var_Synthetic data saved to synthetic_data.csv\n",
            "   time         x1        x2        x3         x4         x5        x6\n",
            "0     0  10.026375  5.000000  7.000000  12.000000  10.000000  8.000000\n",
            "1     1  10.676145  5.294174  7.406737  12.166163   9.964359  8.600000\n",
            "2     2  10.418328  5.572048  7.692835  12.281480   9.972297  9.304491\n",
            "3     3  10.971270  5.312319  8.103635  12.401889  10.015735  9.677526\n",
            "4     4  10.214657  5.567273  8.061708  12.638236   9.984526  9.374290\n"
          ]
        }
      ]
    },
    {
      "cell_type": "code",
      "source": [
        "\n"
      ],
      "metadata": {
        "colab": {
          "base_uri": "https://localhost:8080/"
        },
        "id": "082Gnac5eJtw",
        "outputId": "c51029b4-dcdf-4502-dff6-b94d7d28b024"
      },
      "execution_count": null,
      "outputs": [
        {
          "output_type": "stream",
          "name": "stdout",
          "text": [
            "8_var_Synthetic data saved to synthetic_data.csv\n"
          ]
        }
      ]
    },
    {
      "cell_type": "markdown",
      "source": [
        "10.4"
      ],
      "metadata": {
        "id": "_Cyx-AQUfcCS"
      }
    },
    {
      "cell_type": "code",
      "source": [
        "# Step 1: Generate Synthetic Data with additional variables x5 and x6\n",
        "\n",
        "# Extended function for synthetic data generation with 8 variables\n",
        "def generate_synthetic_data(n_samples=1500):\n",
        "    np.random.seed(45)\n",
        "    time = np.arange(0, n_samples)\n",
        "\n",
        "    # Initialize error terms\n",
        "    e1 = np.random.normal(0, 1, n_samples)\n",
        "    e2 = np.zeros(n_samples)\n",
        "    e3 = np.zeros(n_samples)\n",
        "    e4 = np.zeros(n_samples)\n",
        "    e5 = np.zeros(n_samples)\n",
        "    e6 = np.zeros(n_samples)\n",
        "    e7 = np.zeros(n_samples)\n",
        "    e8 = np.zeros(n_samples)\n",
        "    e9 = np.zeros(n_samples)\n",
        "    e10 = np.zeros(n_samples)\n",
        "    # Generate error terms with dependencies\n",
        "    for t in range(1, n_samples):\n",
        "        e2[t] = 0.7 * e1[t-1] + np.random.normal(0, 0.1)\n",
        "\n",
        "    for t in range(n_samples):\n",
        "        e3[t] = 0.8 * e2[t] + np.random.normal(0, 0.1)\n",
        "\n",
        "    for t in range(2, n_samples):\n",
        "        e4[t] = 0.5 * e3[t-3] + np.random.normal(0, 0.1)\n",
        "\n",
        "    for t in range(1, n_samples):\n",
        "        e5[t] = 0.7 * e4[t] + 0.3 * e4[t-1] + np.random.normal(0, 0.1)\n",
        "\n",
        "    for t in range(2, n_samples):\n",
        "        e6[t] = 0.6 * e5[t-4] + np.random.normal(0, 0.1)\n",
        "\n",
        "    for t in range(n_samples):\n",
        "        e7[t] = 0.75 * e6[t] + np.random.normal(0, 0.1)\n",
        "\n",
        "    for t in range(1, n_samples):\n",
        "        e8[t] = 0.8 * e7[t-1] + np.random.normal(0, 0.1)\n",
        "\n",
        "    for t in range(2, n_samples):  # e9 depends on e8 with lag 2\n",
        "        e9[t] = 0.5 * e8[t-2] + np.random.normal(0, 0.1)\n",
        "\n",
        "    for t in range(1, n_samples):  # e10 depends on e9 with lag 1\n",
        "        e10[t] = 0.6 * e9[t-1] + np.random.normal(0, 0.1)\n",
        "\n",
        "    # Generate time series with trend, seasonal, and error components\n",
        "    x1 = 10  + e1\n",
        "    x2 = 5 + 0.05 * time + e2  # Trend\n",
        "    x3 = 7  + e3\n",
        "    x4 = 12  + np.sin(2 * np.pi * time / 20) + e4  # Seasonal\n",
        "    x5 = 10 + 0.1 * time + 3 * np.sin(2 * np.pi * time / 25) + e5  # Trend + Seasonal\n",
        "    x6 = 8 + 0.2 * time + e6  # Trend\n",
        "    x7 = 9  + e7\n",
        "    x8 = 11 + 4 * np.sin(2 * np.pi * time / 12) + e8  # Seasonal\n",
        "    x9 = 10 + e9\n",
        "    x10 = 8 + 0.1 * time + e10 # Trend\n",
        "\n",
        "    # Return the generated data as a DataFrame\n",
        "    return pd.DataFrame({\n",
        "        'time': time,\n",
        "        'x1': x1,\n",
        "        'x2': x2,\n",
        "        'x3': x3,\n",
        "        'x4': x4,\n",
        "        'x5': x5,\n",
        "        'x6': x6,\n",
        "        'x7': x7,\n",
        "        'x8': x8,\n",
        "        'x9': x9,\n",
        "        'x10': x10\n",
        "    })\n",
        "\n",
        "data = generate_synthetic_data()\n",
        "# Save to CSV file\n",
        "data.to_csv(\"10.4.1500.csv\", index=False)\n",
        "\n",
        "print(\"10_var_Synthetic data saved\")\n",
        "print(data.head())"
      ],
      "metadata": {
        "colab": {
          "base_uri": "https://localhost:8080/"
        },
        "id": "x6bahQO4fSq3",
        "outputId": "f90e79e9-7a8f-4328-ef9e-88160715a598"
      },
      "execution_count": 12,
      "outputs": [
        {
          "output_type": "stream",
          "name": "stdout",
          "text": [
            "10_var_Synthetic data saved\n",
            "   time         x1        x2        x3         x4         x5        x6  \\\n",
            "0     0  10.026375  5.000000  6.949691  12.000000  10.000000  8.000000   \n",
            "1     1  10.260322  5.155001  7.173579  12.309017  10.830404  8.200000   \n",
            "2     2   9.604854  5.296411  7.106468  12.585078  11.690373  8.667501   \n",
            "3     3   9.795699  4.905583  6.747708  12.860587  12.348601  8.829897   \n",
            "4     4   8.728367  5.037354  6.920810  12.934882  12.890574  8.560534   \n",
            "\n",
            "         x7         x8         x9       x10  \n",
            "0  9.019236  11.000000  10.000000  8.000000  \n",
            "1  9.173749  12.898659  10.000000  8.010694  \n",
            "2  9.185926  14.495448  10.029519  8.008069  \n",
            "3  9.300787  15.173694   9.992266  8.366281  \n",
            "4  8.612283  14.839660  10.007885  8.555390  \n"
          ]
        }
      ]
    }
  ]
}